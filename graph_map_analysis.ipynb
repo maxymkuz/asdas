{
 "cells": [
  {
   "cell_type": "code",
   "execution_count": 2,
   "metadata": {},
   "outputs": [],
   "source": [
    "from read_file import read_file, get_edges\n",
    "from test_graph_map import graph_study, main\n",
    "from test_grapg_case_study import topological_sort, stanfort_read"
   ]
  },
  {
   "cell_type": "markdown",
   "metadata": {},
   "source": [
    "## Testing Grapt map:"
   ]
  },
  {
   "cell_type": "code",
   "execution_count": 3,
   "metadata": {},
   "outputs": [
    {
     "name": "stdout",
     "output_type": "stream",
     "text": [
      "Result  of bfs:\n",
      "{<Graph_map.graph.Graph.Vertex object at 0x7fad795325e0>: None, <Graph_map.graph.Graph.Vertex object at 0x7fad78c201c0>: <Graph_map.graph.Graph.Edge object at 0x7fad78c42580>, <Graph_map.graph.Graph.Vertex object at 0x7fad78c20040>: <Graph_map.graph.Graph.Edge object at 0x7fad78c426c0>, <Graph_map.graph.Graph.Vertex object at 0x7fad78c204f0>: <Graph_map.graph.Graph.Edge object at 0x7fad78c423c0>, <Graph_map.graph.Graph.Vertex object at 0x7fad79532280>: None, <Graph_map.graph.Graph.Vertex object at 0x7fad795324f0>: None, <Graph_map.graph.Graph.Vertex object at 0x7fad78c20700>: <Graph_map.graph.Graph.Edge object at 0x7fad78c42480>, <Graph_map.graph.Graph.Vertex object at 0x7fad79532d60>: None, <Graph_map.graph.Graph.Vertex object at 0x7fad78c20610>: <Graph_map.graph.Graph.Edge object at 0x7fad78c42700>, <Graph_map.graph.Graph.Vertex object at 0x7fad79d96ee0>: None, <Graph_map.graph.Graph.Vertex object at 0x7fad78c20490>: <Graph_map.graph.Graph.Edge object at 0x7fad78c42280>, <Graph_map.graph.Graph.Vertex object at 0x7fad78c206a0>: <Graph_map.graph.Graph.Edge object at 0x7fad78c42240>, <Graph_map.graph.Graph.Vertex object at 0x7fad78c27fa0>: None, <Graph_map.graph.Graph.Vertex object at 0x7fad78c27a30>: None, <Graph_map.graph.Graph.Vertex object at 0x7fad78c27fd0>: None, <Graph_map.graph.Graph.Vertex object at 0x7fad78c27b50>: None, <Graph_map.graph.Graph.Vertex object at 0x7fad78c27df0>: None, <Graph_map.graph.Graph.Vertex object at 0x7fad78c27bb0>: None, <Graph_map.graph.Graph.Vertex object at 0x7fad78c20460>: None, <Graph_map.graph.Graph.Vertex object at 0x7fad78c20310>: None, <Graph_map.graph.Graph.Vertex object at 0x7fad78c204c0>: None, <Graph_map.graph.Graph.Vertex object at 0x7fad78c206d0>: None, <Graph_map.graph.Graph.Vertex object at 0x7fad78c202e0>: None, <Graph_map.graph.Graph.Vertex object at 0x7fad78c20580>: <Graph_map.graph.Graph.Edge object at 0x7fad78c42780>, <Graph_map.graph.Graph.Vertex object at 0x7fad78c20880>: None}\n",
      "----------------------------------------\n",
      "Result  of dfs:\n",
      "{<Graph_map.graph.Graph.Vertex object at 0x7fad795325e0>: None, <Graph_map.graph.Graph.Vertex object at 0x7fad78c201c0>: <Graph_map.graph.Graph.Edge object at 0x7fad78c42580>, <Graph_map.graph.Graph.Vertex object at 0x7fad78c20040>: <Graph_map.graph.Graph.Edge object at 0x7fad78c426c0>, <Graph_map.graph.Graph.Vertex object at 0x7fad78c204f0>: <Graph_map.graph.Graph.Edge object at 0x7fad78c423c0>, <Graph_map.graph.Graph.Vertex object at 0x7fad79532280>: None, <Graph_map.graph.Graph.Vertex object at 0x7fad795324f0>: None, <Graph_map.graph.Graph.Vertex object at 0x7fad78c20700>: <Graph_map.graph.Graph.Edge object at 0x7fad78c42480>, <Graph_map.graph.Graph.Vertex object at 0x7fad79532d60>: None, <Graph_map.graph.Graph.Vertex object at 0x7fad78c20610>: <Graph_map.graph.Graph.Edge object at 0x7fad78c42700>, <Graph_map.graph.Graph.Vertex object at 0x7fad79d96ee0>: None, <Graph_map.graph.Graph.Vertex object at 0x7fad78c20490>: <Graph_map.graph.Graph.Edge object at 0x7fad78c42280>, <Graph_map.graph.Graph.Vertex object at 0x7fad78c206a0>: <Graph_map.graph.Graph.Edge object at 0x7fad78c42240>, <Graph_map.graph.Graph.Vertex object at 0x7fad78c27fa0>: None, <Graph_map.graph.Graph.Vertex object at 0x7fad78c27a30>: None, <Graph_map.graph.Graph.Vertex object at 0x7fad78c27fd0>: None, <Graph_map.graph.Graph.Vertex object at 0x7fad78c27b50>: None, <Graph_map.graph.Graph.Vertex object at 0x7fad78c27df0>: None, <Graph_map.graph.Graph.Vertex object at 0x7fad78c27bb0>: None, <Graph_map.graph.Graph.Vertex object at 0x7fad78c20460>: None, <Graph_map.graph.Graph.Vertex object at 0x7fad78c20310>: None, <Graph_map.graph.Graph.Vertex object at 0x7fad78c204c0>: None, <Graph_map.graph.Graph.Vertex object at 0x7fad78c206d0>: None, <Graph_map.graph.Graph.Vertex object at 0x7fad78c202e0>: None, <Graph_map.graph.Graph.Vertex object at 0x7fad78c20580>: <Graph_map.graph.Graph.Edge object at 0x7fad78c42780>, <Graph_map.graph.Graph.Vertex object at 0x7fad78c20880>: None}\n",
      "----------------------------------------\n",
      "Result  of topological_sort:\n",
      "[<Graph_map.graph.Graph.Vertex object at 0x7fad78c20880>, <Graph_map.graph.Graph.Vertex object at 0x7fad78c202e0>, <Graph_map.graph.Graph.Vertex object at 0x7fad78c20580>, <Graph_map.graph.Graph.Vertex object at 0x7fad78c20460>, <Graph_map.graph.Graph.Vertex object at 0x7fad78c206d0>, <Graph_map.graph.Graph.Vertex object at 0x7fad78c204c0>, <Graph_map.graph.Graph.Vertex object at 0x7fad78c20310>, <Graph_map.graph.Graph.Vertex object at 0x7fad78c27a30>, <Graph_map.graph.Graph.Vertex object at 0x7fad78c27bb0>, <Graph_map.graph.Graph.Vertex object at 0x7fad78c27df0>, <Graph_map.graph.Graph.Vertex object at 0x7fad79532d60>, <Graph_map.graph.Graph.Vertex object at 0x7fad78c27b50>, <Graph_map.graph.Graph.Vertex object at 0x7fad78c27fa0>, <Graph_map.graph.Graph.Vertex object at 0x7fad79d96ee0>, <Graph_map.graph.Graph.Vertex object at 0x7fad78c20490>, <Graph_map.graph.Graph.Vertex object at 0x7fad78c206a0>, <Graph_map.graph.Graph.Vertex object at 0x7fad78c27fd0>, <Graph_map.graph.Graph.Vertex object at 0x7fad78c20610>, <Graph_map.graph.Graph.Vertex object at 0x7fad795324f0>, <Graph_map.graph.Graph.Vertex object at 0x7fad78c20700>, <Graph_map.graph.Graph.Vertex object at 0x7fad79532280>, <Graph_map.graph.Graph.Vertex object at 0x7fad795325e0>, <Graph_map.graph.Graph.Vertex object at 0x7fad78c201c0>, <Graph_map.graph.Graph.Vertex object at 0x7fad78c20040>, <Graph_map.graph.Graph.Vertex object at 0x7fad78c204f0>]\n",
      "----------------------------------------\n"
     ]
    }
   ],
   "source": [
    "g = read_file(\"stanford_cs.txt\")\n",
    "main(graph_study(g))"
   ]
  },
  {
   "cell_type": "markdown",
   "metadata": {},
   "source": [
    "## Testing Graph case study:"
   ]
  },
  {
   "cell_type": "code",
   "execution_count": 4,
   "metadata": {},
   "outputs": [
    {
     "ename": "TypeError",
     "evalue": "expected str, bytes or os.PathLike object, not Graph",
     "output_type": "error",
     "traceback": [
      "\u001b[0;31m---------------------------------------------------------------------------\u001b[0m",
      "\u001b[0;31mTypeError\u001b[0m                                 Traceback (most recent call last)",
      "\u001b[0;32m<ipython-input-4-aa5ecf7339b3>\u001b[0m in \u001b[0;36m<module>\u001b[0;34m\u001b[0m\n\u001b[1;32m      1\u001b[0m \u001b[0mgraph\u001b[0m \u001b[0;34m=\u001b[0m \u001b[0mread_file\u001b[0m\u001b[0;34m(\u001b[0m\u001b[0;34m'stanford_cs.txt'\u001b[0m\u001b[0;34m)\u001b[0m\u001b[0;34m\u001b[0m\u001b[0;34m\u001b[0m\u001b[0m\n\u001b[0;32m----> 2\u001b[0;31m \u001b[0mprint\u001b[0m\u001b[0;34m(\u001b[0m\u001b[0;34mf\"Topological sort: \\n{stanfort_read(graph)}\"\u001b[0m\u001b[0;34m)\u001b[0m\u001b[0;34m\u001b[0m\u001b[0;34m\u001b[0m\u001b[0m\n\u001b[0m",
      "\u001b[0;32m/media/max/Work/cs_2/lection__13_graphs/test_grapg_case_study.py\u001b[0m in \u001b[0;36mstanfort_read\u001b[0;34m(path)\u001b[0m\n\u001b[1;32m      5\u001b[0m \u001b[0;34m\u001b[0m\u001b[0m\n\u001b[1;32m      6\u001b[0m \u001b[0;32mdef\u001b[0m \u001b[0mstanfort_read\u001b[0m\u001b[0;34m(\u001b[0m\u001b[0mpath\u001b[0m\u001b[0;34m)\u001b[0m\u001b[0;34m:\u001b[0m\u001b[0;34m\u001b[0m\u001b[0;34m\u001b[0m\u001b[0m\n\u001b[0;32m----> 7\u001b[0;31m     \u001b[0medges\u001b[0m \u001b[0;34m=\u001b[0m \u001b[0mget_edges\u001b[0m\u001b[0;34m(\u001b[0m\u001b[0mpath\u001b[0m\u001b[0;34m)\u001b[0m\u001b[0;34m\u001b[0m\u001b[0;34m\u001b[0m\u001b[0m\n\u001b[0m\u001b[1;32m      8\u001b[0m     \u001b[0mgraph\u001b[0m \u001b[0;34m=\u001b[0m \u001b[0mgraph_sample\u001b[0m\u001b[0;34m.\u001b[0m\u001b[0mLinkedDirectedGraph\u001b[0m\u001b[0;34m(\u001b[0m\u001b[0;34m)\u001b[0m\u001b[0;34m\u001b[0m\u001b[0;34m\u001b[0m\u001b[0m\n\u001b[1;32m      9\u001b[0m \u001b[0;34m\u001b[0m\u001b[0m\n",
      "\u001b[0;32m/media/max/Work/cs_2/lection__13_graphs/read_file.py\u001b[0m in \u001b[0;36mget_edges\u001b[0;34m(filename)\u001b[0m\n\u001b[1;32m     21\u001b[0m \u001b[0;32mdef\u001b[0m \u001b[0mget_edges\u001b[0m\u001b[0;34m(\u001b[0m\u001b[0mfilename\u001b[0m\u001b[0;34m)\u001b[0m\u001b[0;34m:\u001b[0m\u001b[0;34m\u001b[0m\u001b[0;34m\u001b[0m\u001b[0m\n\u001b[1;32m     22\u001b[0m     \u001b[0medges\u001b[0m \u001b[0;34m=\u001b[0m \u001b[0;34m[\u001b[0m\u001b[0;34m]\u001b[0m\u001b[0;34m\u001b[0m\u001b[0;34m\u001b[0m\u001b[0m\n\u001b[0;32m---> 23\u001b[0;31m     \u001b[0;32mwith\u001b[0m \u001b[0mopen\u001b[0m\u001b[0;34m(\u001b[0m\u001b[0mfilename\u001b[0m\u001b[0;34m,\u001b[0m \u001b[0;34m'r'\u001b[0m\u001b[0;34m)\u001b[0m \u001b[0;32mas\u001b[0m \u001b[0mf\u001b[0m\u001b[0;34m:\u001b[0m\u001b[0;34m\u001b[0m\u001b[0;34m\u001b[0m\u001b[0m\n\u001b[0m\u001b[1;32m     24\u001b[0m         \u001b[0;32mfor\u001b[0m \u001b[0mline\u001b[0m \u001b[0;32min\u001b[0m \u001b[0mf\u001b[0m\u001b[0;34m:\u001b[0m\u001b[0;34m\u001b[0m\u001b[0;34m\u001b[0m\u001b[0m\n\u001b[1;32m     25\u001b[0m             \u001b[0mline\u001b[0m \u001b[0;34m=\u001b[0m \u001b[0mline\u001b[0m\u001b[0;34m.\u001b[0m\u001b[0mstrip\u001b[0m\u001b[0;34m(\u001b[0m\u001b[0;34m)\u001b[0m\u001b[0;34m[\u001b[0m\u001b[0;34m:\u001b[0m\u001b[0;34m-\u001b[0m\u001b[0;36m1\u001b[0m\u001b[0;34m]\u001b[0m\u001b[0;34m.\u001b[0m\u001b[0msplit\u001b[0m\u001b[0;34m(\u001b[0m\u001b[0;34m' ('\u001b[0m\u001b[0;34m)\u001b[0m\u001b[0;34m\u001b[0m\u001b[0;34m\u001b[0m\u001b[0m\n",
      "\u001b[0;31mTypeError\u001b[0m: expected str, bytes or os.PathLike object, not Graph"
     ]
    }
   ],
   "source": [
    "graph = read_file('stanford_cs.txt')\n",
    "print(f\"Topological sort: \\n{stanfort_read(graph)}\")"
   ]
  },
  {
   "cell_type": "markdown",
   "metadata": {},
   "source": [
    "## Markdown is never a bad idea\n",
    "algorithms: dunc is under developments__, which is one of the a lot of examples of bad code...\n",
    "\n",
    "\n"
   ]
  },
  {
   "cell_type": "code",
   "execution_count": null,
   "metadata": {},
   "outputs": [],
   "source": []
  }
 ],
 "metadata": {
  "kernelspec": {
   "display_name": "Python 3",
   "language": "python",
   "name": "python3"
  },
  "language_info": {
   "codemirror_mode": {
    "name": "ipython",
    "version": 3
   },
   "file_extension": ".py",
   "mimetype": "text/x-python",
   "name": "python",
   "nbconvert_exporter": "python",
   "pygments_lexer": "ipython3",
   "version": "3.8.2"
  }
 },
 "nbformat": 4,
 "nbformat_minor": 4
}
